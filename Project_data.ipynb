{
 "cells": [
  {
   "cell_type": "markdown",
   "id": "644ef486-8f5d-4672-ad5b-431f7d01e40a",
   "metadata": {},
   "source": [
    "### 데이터 크롤링\n",
    "2024년도 데이터를 크롤링한 것\n",
    "삼성 엔트리 선수들 크롤링하기(타자)\n",
    "포수: 이병헌, 강민호\n",
    "내야수: 이재현, 안주형, 류지혁, 김영웅, 전병우, 김지찬, 박병호\n",
    "외야수: 구자욱, 김재혁, 이성규, 윤정빈, 김헌곤, 김현준"
   ]
  },
  {
   "cell_type": "markdown",
   "id": "a0726159-f681-4c4a-839f-f3a283ec981d",
   "metadata": {},
   "source": [
    "데이터수집_최종"
   ]
  },
  {
   "cell_type": "code",
   "execution_count": null,
   "id": "84f75e30-85a5-4a30-8830-447ae69cc30a",
   "metadata": {},
   "outputs": [
    {
     "name": "stdout",
     "output_type": "stream",
     "text": [
      "모든 파일에 대한 모델 업데이트 스케줄링 완료\n"
     ]
    }
   ],
   "source": [
    "import schedule\n",
    "import time\n",
    "import pandas as pd\n",
    "import requests\n",
    "from bs4 import BeautifulSoup\n",
    "\n",
    "def crawl_statiz(url, name):\n",
    "    try:\n",
    "        print(\"크롤링 시작!\")\n",
    "\n",
    "        # 웹 페이지 요청\n",
    "        #url = \"https://statiz.sporki.com/player/?m=playlog&p_no=14867&pos=batting&year=2024&si=2&vs_pNo=&sd=&ed=\"  # 실제 URL로 변경\n",
    "        response = requests.get(url)\n",
    "        \n",
    "        if response.status_code == 200:\n",
    "            print(\"웹 페이지 요청 성공!\")\n",
    "        else:\n",
    "            print(f\"웹 페이지 요청 실패: {response.status_code}\")\n",
    "            return\n",
    "        \n",
    "        # HTML 파싱\n",
    "        html = response.text\n",
    "        soup = BeautifulSoup(html, 'html.parser')\n",
    "        table = soup.find_all(\"table\")[0]\n",
    "\n",
    "        # 테이블에서 데이터 추출\n",
    "        rows = table.find_all('tr')[1:]  # 헤더를 제외한 데이터 행만 선택\n",
    "        if not rows:\n",
    "            print(\"데이터 행을 찾을 수 없습니다.\")\n",
    "            return\n",
    "\n",
    "        # 데이터프레임 생성\n",
    "        data = []\n",
    "        for row in rows:\n",
    "            cols = row.find_all('td')\n",
    "            cols = [ele.text.strip() for ele in cols]\n",
    "            data.append(cols)\n",
    "        \n",
    "        df = pd.DataFrame(data, columns=[\"Date\", \"Team\", \"Inning\", \"Pitcher\", \"Batter\", \"BC\", \"Result\", \"Prev\", \"Next\", \"LEV\", \"REs\", \"REa\", \"WPe\", \"WPa\"])\n",
    "        \n",
    "        csv_file = './project_kbo/data/'+name+'_2024.csv'\n",
    "        df.to_csv(csv_file, index=False, encoding='utf-8-sig')\n",
    "        \n",
    "        print(name, \"데이터가 CSV 파일로 저장되었습니다.\\n\")\n",
    "\n",
    "    except Exception as e:\n",
    "        print(f\"오류 발생: {e}\")\n",
    "\n",
    "def model_update(file_path, name):\n",
    "    print(f\"모델 업데이트 시작: {name}\")\n",
    "    # 여기에 모델 업데이트 로직을 추가하세요\n",
    "    print(f\"모델 업데이트 완료: {file_path}\\n\")\n",
    "\n",
    "def schedule_model_updates():\n",
    "    files_to_model = [\n",
    "        (\"https://statiz.sporki.com/player/?m=playlog&p_no=14117&pos=batting&year=2024&si=2&vs_pNo=&sd=&ed=\", \"이병헌\"),\n",
    "        (\"https://statiz.sporki.com/player/?m=playlog&p_no=10232&pos=batting&year=2024&si=2&vs_pNo=&sd=&ed=\", \"강민호\"),\n",
    "        (\"https://statiz.sporki.com/player/?m=playlog&p_no=15034&pos=batting&year=2024&si=2&vs_pNo=&sd=&ed=\", \"이재현\"),\n",
    "        (\"https://statiz.sporki.com/player/?m=playlog&p_no=12988&pos=batting&year=2024&si=2&vs_pNo=&sd=&ed=\", \"안주형\"),\n",
    "        (\"https://statiz.sporki.com/player/?m=playlog&p_no=10894&pos=batting&year=2024&si=2&vs_pNo=&sd=&ed=\", \"류지혁\"),\n",
    "        (\"https://statiz.sporki.com/player/?m=playlog&p_no=15035&pos=batting&year=2024&si=2&vs_pNo=&sd=&ed=\", \"김영웅\"),\n",
    "        (\"https://statiz.sporki.com/player/?m=playlog&p_no=11422&pos=batting&year=2024&si=2&vs_pNo=&sd=&ed=\", \"전병우\"),\n",
    "        (\"https://statiz.sporki.com/player/?m=playlog&p_no=14618&pos=batting&year=2024&si=2&vs_pNo=&sd=&ed=\", \"김지찬\"),\n",
    "        (\"https://statiz.sporki.com/player/?m=playlog&p_no=10470&pos=batting&year=2024&si=2&vs_pNo=&sd=&ed=\", \"박병호\"),\n",
    "        (\"https://statiz.sporki.com/player/?m=playlog&p_no=10892&pos=batting&year=2024&si=2&vs_pNo=&sd=&ed=\", \"구자욱\"),\n",
    "        (\"https://statiz.sporki.com/player/?m=playlog&p_no=15036&pos=batting&year=2024&si=2&vs_pNo=&sd=&ed=\", \"김재혁\"),\n",
    "        (\"https://statiz.sporki.com/player/?m=playlog&p_no=12562&pos=batting&year=2024&si=2&vs_pNo=&sd=&ed=\", \"이성규\"),\n",
    "        (\"https://statiz.sporki.com/player/?m=playlog&p_no=13161&pos=batting&year=2024&si=2&vs_pNo=&sd=&ed=\", \"윤정빈\"),\n",
    "        (\"https://statiz.sporki.com/player/?m=playlog&p_no=10640&pos=batting&year=2024&si=2&vs_pNo=&sd=&ed=\", \"김헌곤\"),\n",
    "        (\"https://statiz.sporki.com/player/?m=playlog&p_no=14867&pos=batting&year=2024&si=2&vs_pNo=&sd=&ed=\", \"김현준\")\n",
    "    ]\n",
    "\n",
    "\n",
    "    for file_path, name in files_to_model:\n",
    "        schedule.every().day.at(\"10:30\").do(model_update, file_path, name)\n",
    "\n",
    "    print(\"모든 파일에 대한 모델 업데이트 스케줄링 완료\")\n",
    "\n",
    "# 스케줄링 함수 호출\n",
    "schedule_model_updates()\n",
    "\n",
    "# 스케줄링 작업을 실행\n",
    "while True:\n",
    "    schedule.run_pending()\n",
    "    time.sleep(60)"
   ]
  },
  {
   "cell_type": "markdown",
   "id": "70bb6671-84ee-441c-863a-45267044831d",
   "metadata": {},
   "source": [
    "삼성 엔트리 선수들의 데이터 수집 완료"
   ]
  }
 ],
 "metadata": {
  "kernelspec": {
   "display_name": "Python 3 (ipykernel)",
   "language": "python",
   "name": "python3"
  },
  "language_info": {
   "codemirror_mode": {
    "name": "ipython",
    "version": 3
   },
   "file_extension": ".py",
   "mimetype": "text/x-python",
   "name": "python",
   "nbconvert_exporter": "python",
   "pygments_lexer": "ipython3",
   "version": "3.12.4"
  }
 },
 "nbformat": 4,
 "nbformat_minor": 5
}
