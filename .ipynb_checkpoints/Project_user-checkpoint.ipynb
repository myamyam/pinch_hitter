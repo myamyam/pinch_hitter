{
 "cells": [
  {
   "cell_type": "code",
   "execution_count": null,
   "id": "e44d1b4c-e667-4044-bf4a-febe08c5cfcb",
   "metadata": {
    "scrolled": true
   },
   "outputs": [],
   "source": [
    "!pip install tensorflow"
   ]
  },
  {
   "cell_type": "code",
   "execution_count": null,
   "id": "678d3986-17c4-4ea4-b4a2-2d3e899e5db8",
   "metadata": {},
   "outputs": [
    {
     "name": "stdout",
     "output_type": "stream",
     "text": [
      "데이터를 입력하세요.\n"
     ]
    }
   ],
   "source": [
    "import pandas as pd\n",
    "import numpy as np\n",
    "from sklearn.preprocessing import StandardScaler\n",
    "from tensorflow.keras.models import load_model\n",
    "\n",
    "def preprocess_user_input(user_input, model, scaler, X_train_columns):\n",
    "    # 사용자 입력 데이터프레임 생성\n",
    "    user_data = pd.DataFrame(user_input, index=[0])\n",
    "\n",
    "    # 범주형 변수를 수치형 변수로 변환\n",
    "    user_data_processed = pd.get_dummies(user_data)\n",
    "\n",
    "    # 학습 데이터와 동일한 특성 조정\n",
    "    missing_cols = set(X_train_columns) - set(user_data_processed.columns)\n",
    "    for col in missing_cols:\n",
    "        user_data_processed[col] = 0\n",
    "\n",
    "    # 열의 순서를 학습 데이터와 동일하게 맞추기\n",
    "    user_data_processed = user_data_processed[X_train_columns]\n",
    "\n",
    "    # 데이터 표준화\n",
    "    user_data_scaled = scaler.transform(user_data_processed)  # 학습 데이터에서 훈련한 스케일러를 사용해야 함\n",
    "\n",
    "    return user_data_scaled\n",
    "\n",
    "def get_user_input():\n",
    "    print(\"데이터를 입력하세요.\")\n",
    "    batter = input(\"타자 (예: 김현준): \")\n",
    "    inning = input(\"이닝 (예: '9회'): \")\n",
    "    pitcher = input(\"투수 (예: '김원중'): \")\n",
    "    out = input(\"아웃 카운트 (예: '1사'): \")\n",
    "    bases = input(\"베이스 상황 (예: '1,2루'): \")\n",
    "\n",
    "    user_input = {\n",
    "        'Inning': [inning],\n",
    "        'Pitcher': [pitcher],\n",
    "        'Out': [out],\n",
    "        'Bases': [bases]\n",
    "    }\n",
    "    return batter, user_input\n",
    "\n",
    "# 사용자 입력 받기\n",
    "batter, user_input = get_user_input()\n",
    "\n",
    "# 모델 로드\n",
    "model_filename = './data/models/'+ batter +'_model.keras'\n",
    "model = load_model(model_filename)\n",
    "\n",
    "# X_train의 열 정보 가져오기\n",
    "X_train = pd.read_csv('./data/preprocess/'+batter+'_preprocessed.csv').drop(columns=['Result'])\n",
    "X_train = pd.get_dummies(X_train)\n",
    "X_train_columns = X_train.columns\n",
    "\n",
    "# 스케일러 로드\n",
    "# 예: scaler = joblib.load('scaler.joblib')\n",
    "scaler = StandardScaler()\n",
    "scaler.fit(X_train)  # 실제로는 저장된 스케일러를 사용해야 합니다.\n",
    "\n",
    "\n",
    "# 데이터 전처리\n",
    "user_data_scaled = preprocess_user_input(user_input, model, scaler, X_train_columns)\n",
    "\n",
    "# 예측 수행\n",
    "predictions = model.predict(user_data_scaled)\n",
    "\n",
    "# 예측 결과를 0 또는 1로 변환\n",
    "predicted_class = np.argmax(predictions, axis=1)\n",
    "\n",
    "# 확률을 읽기 쉽게 변환\n",
    "probabilities = predictions[0]  # 확률 배열\n",
    "formatted_probabilities = [f\"{p * 100:.2f}%\" for p in probabilities]  # 백분율로 포맷\n",
    "\n",
    "# 결과 출력\n",
    "print(f\"예측 확률: {formatted_probabilities}\")\n",
    "if predicted_class[0] == 1:\n",
    "    print(\"예측 결과: 안타!\")\n",
    "else:\n",
    "    print(\"예측 결과: 아웃ㅠㅠ\")"
   ]
  },
  {
   "cell_type": "code",
   "execution_count": null,
   "id": "274cef7a-9890-4efe-b43d-9ef84b0269c3",
   "metadata": {},
   "outputs": [],
   "source": [
    "models=pd.read_csv('./data/preprocess/김현준_preprocess.csv'\n",
    "models.head()"
   ]
  },
  {
   "cell_type": "code",
   "execution_count": 1,
   "id": "094c647d-eb28-40c8-a8d1-78412cef2235",
   "metadata": {},
   "outputs": [
    {
     "name": "stdout",
     "output_type": "stream",
     "text": [
      "Hello\n"
     ]
    }
   ],
   "source": [
    "print(\"Hello\")"
   ]
  },
  {
   "cell_type": "code",
   "execution_count": null,
   "id": "8a83fd1b-e40f-43ce-a49c-b2c411d8fe60",
   "metadata": {},
   "outputs": [],
   "source": []
  }
 ],
 "metadata": {
  "kernelspec": {
   "display_name": "Python [conda env:base] *",
   "language": "python",
   "name": "conda-base-py"
  },
  "language_info": {
   "codemirror_mode": {
    "name": "ipython",
    "version": 3
   },
   "file_extension": ".py",
   "mimetype": "text/x-python",
   "name": "python",
   "nbconvert_exporter": "python",
   "pygments_lexer": "ipython3",
   "version": "3.12.7"
  }
 },
 "nbformat": 4,
 "nbformat_minor": 5
}
