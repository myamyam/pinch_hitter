{
 "cells": [
  {
   "cell_type": "code",
   "execution_count": null,
   "id": "14c58efb-a317-415c-8b4d-1d2d270654aa",
   "metadata": {},
   "outputs": [
    {
     "name": "stdout",
     "output_type": "stream",
     "text": [
      "크롤링 시작!\n",
      "웹 페이지 요청 성공!\n",
      "데이터가 CSV 파일로 저장되었습니다.\n",
      "저장된 데이터:\n",
      "    Date Team Inning Pitcher Batter       BC      Result         Prev  \\\n",
      "0  05-03   롯데    9회말     김원중  8 김현준  5 (2-2)       루킹 삼진  1사 1,2루 8:7   \n",
      "1  07-21   롯데    8회말     김원중  9 김현준  4 (1-2)   선행주자아웃 출루  1사 1,2루 5:4   \n",
      "2  04-10   롯데    6회초     전미르  8 김현준  5 (1-2)      헛스윙 삼진  2사 2,3루 3:4   \n",
      "3  03-31  SSG   10회말     이로운  1 김현준  2 (1-0)  중견수 플라이 아웃  1사 1,2루 3:3   \n",
      "4  03-26   LG    2회초      켈리  7 김현준  5 (3-1)  1루수 병살타 아웃  1사 1,2루 0:1   \n",
      "\n",
      "          Next   LEV    REs    REa    WPe    WPa  \n",
      "0  2사 1,2루 8:7  7.15  1.097 -0.621  17.1% -0.164  \n",
      "1  2사 1,3루 5:4  5.24  1.106 -0.583  30.4% -0.099  \n",
      "2     이닝종료 3:4  3.33  0.614 -0.614  74.3% -0.098  \n",
      "3  2사 1,2루 3:3  4.30  0.971 -0.488  61.2% -0.096  \n",
      "4     이닝종료 0:1  2.16  0.971 -0.971  65.8% -0.095  \n",
      "크롤링 시작!\n",
      "웹 페이지 요청 성공!\n",
      "오류 발생: [Errno 13] Permission denied: 'Playing.csv'\n"
     ]
    }
   ],
   "source": [
    "import schedule\n",
    "import time\n",
    "import pandas as pd\n",
    "import requests\n",
    "from bs4 import BeautifulSoup\n",
    "\n",
    "def crawl_statiz():\n",
    "    try:\n",
    "        print(\"크롤링 시작!\")\n",
    "\n",
    "        # 웹 페이지 요청\n",
    "        url = \"https://statiz.sporki.com/player/?m=playlog&p_no=14867&pos=batting&year=2024&si=2&vs_pNo=&sd=&ed=\"  # 실제 URL로 변경\n",
    "        response = requests.get(url)\n",
    "        \n",
    "        if response.status_code == 200:\n",
    "            print(\"웹 페이지 요청 성공!\")\n",
    "        else:\n",
    "            print(f\"웹 페이지 요청 실패: {response.status_code}\")\n",
    "            return\n",
    "        \n",
    "        # HTML 파싱\n",
    "        html = response.text\n",
    "        soup = BeautifulSoup(html, 'html.parser')\n",
    "        table = soup.find_all(\"table\")[0]\n",
    "\n",
    "        # 테이블에서 데이터 추출\n",
    "        rows = table.find_all('tr')[1:]  # 헤더를 제외한 데이터 행만 선택\n",
    "        if not rows:\n",
    "            print(\"데이터 행을 찾을 수 없습니다.\")\n",
    "            return\n",
    "\n",
    "        # 데이터프레임 생성\n",
    "        data = []\n",
    "        for row in rows:\n",
    "            cols = row.find_all('td')\n",
    "            cols = [ele.text.strip() for ele in cols]\n",
    "            data.append(cols)\n",
    "        \n",
    "        df = pd.DataFrame(data, columns=[\"Date\", \"Team\", \"Inning\", \"Pitcher\", \"Batter\", \"BC\", \"Result\", \"Prev\", \"Next\", \"LEV\", \"REs\", \"REa\", \"WPe\", \"WPa\"])\n",
    "       \n",
    "        # CSV로 내보내기\n",
    "        csv_file = 'Playing.csv'\n",
    "        df.to_csv(csv_file, index=False, encoding='utf-8-sig')\n",
    "        \n",
    "        print(\"데이터가 CSV 파일로 저장되었습니다.\")\n",
    "\n",
    "        # 저장된 파일 읽어서 확인하기\n",
    "        saved_df = pd.read_csv(csv_file, encoding='utf-8-sig')\n",
    "        print(\"저장된 데이터:\")\n",
    "        print(saved_df.head())\n",
    "\n",
    "    except Exception as e:\n",
    "        print(f\"오류 발생: {e}\")\n",
    "\n",
    "# 크롤링 작업을 일정 주기로 실행\n",
    "schedule.every(10).minutes.do(crawl_statiz)   # 10분마다 실행\n",
    "\n",
    "# 테스트를 위해 즉시 실행\n",
    "crawl_statiz()\n",
    "\n",
    "while True:\n",
    "    schedule.run_pending()\n",
    "    time.sleep(1)\n"
   ]
  },
  {
   "cell_type": "code",
   "execution_count": null,
   "id": "b32003bb-58a8-4392-9794-06d9cc7989a2",
   "metadata": {},
   "outputs": [],
   "source": [
    "# 1단계: 웹 페이지 요청\n",
    "import requests\n",
    "\n",
    "url = \"https://statiz.sporki.com/player/?m=playlog&p_no=14867&pos=batting&year=2024&si=2&vs_pNo=&sd=&ed=\"  # 실제 URL로 변경\n",
    "response = requests.get(url)\n",
    "\n",
    "if response.status_code == 200:\n",
    "    print(\"웹 페이지 요청 성공!\")\n",
    "else:\n",
    "    print(f\"웹 페이지 요청 실패: {response.status_code}\")\n"
   ]
  },
  {
   "cell_type": "code",
   "execution_count": null,
   "id": "53dbd238-19a8-4d79-ae8b-208783899e88",
   "metadata": {},
   "outputs": [],
   "source": [
    "# 2단계: HTML 파싱\n",
    "from bs4 import BeautifulSoup\n",
    "\n",
    "html = response.text\n",
    "soup = BeautifulSoup(html, 'html.parser')\n",
    "table = soup.find_all(\"table\")\n",
    "\n",
    "if table:\n",
    "    print(\"테이블 찾기 성공!\")\n",
    "    table = table[0]\n",
    "else:\n",
    "    print(\"테이블을 찾을 수 없습니다.\")\n"
   ]
  },
  {
   "cell_type": "code",
   "execution_count": 11,
   "id": "33cca104-2001-4a45-bc11-b1a811e68a13",
   "metadata": {},
   "outputs": [
    {
     "name": "stdout",
     "output_type": "stream",
     "text": [
      "데이터 행 찾기 성공!\n"
     ]
    }
   ],
   "source": [
    "# 3단계: 테이블에서 데이터 추출\n",
    "rows = table.find_all('tr')\n",
    "\n",
    "if rows:\n",
    "    print(\"데이터 행 찾기 성공!\")\n",
    "    rows = rows[1:]  # 헤더를 제외한 데이터 행만 선택\n",
    "else:\n",
    "    print(\"데이터 행을 찾을 수 없습니다.\")\n"
   ]
  },
  {
   "cell_type": "code",
   "execution_count": 13,
   "id": "05577f29-baf9-491d-98e8-68d9d2d0e8f9",
   "metadata": {},
   "outputs": [
    {
     "name": "stdout",
     "output_type": "stream",
     "text": [
      "데이터프레임 생성 성공!\n",
      "    Date Team Inning Pitcher Batter       BC      Result         Prev  \\\n",
      "0  05-03   롯데    9회말     김원중  8 김현준  5 (2-2)       루킹 삼진  1사 1,2루 8:7   \n",
      "1  07-21   롯데    8회말     김원중  9 김현준  4 (1-2)   선행주자아웃 출루  1사 1,2루 5:4   \n",
      "2  04-10   롯데    6회초     전미르  8 김현준  5 (1-2)      헛스윙 삼진  2사 2,3루 3:4   \n",
      "3  03-31  SSG   10회말     이로운  1 김현준  2 (1-0)  중견수 플라이 아웃  1사 1,2루 3:3   \n",
      "4  03-26   LG    2회초      켈리  7 김현준  5 (3-1)  1루수 병살타 아웃  1사 1,2루 0:1   \n",
      "\n",
      "          Next   LEV    REs     REa    WPe     WPa  \n",
      "0  2사 1,2루 8:7  7.15  1.097  -0.621  17.1%  -0.164  \n",
      "1  2사 1,3루 5:4  5.24  1.106  -0.583  30.4%  -0.099  \n",
      "2     이닝종료 3:4  3.33  0.614  -0.614  74.3%  -0.098  \n",
      "3  2사 1,2루 3:3  4.30  0.971  -0.488  61.2%  -0.096  \n",
      "4     이닝종료 0:1  2.16  0.971  -0.971  65.8%  -0.095  \n"
     ]
    }
   ],
   "source": [
    "# 4단계: 데이터프레임 생성\n",
    "import pandas as pd\n",
    "\n",
    "data = []\n",
    "for row in rows:\n",
    "    cols = row.find_all('td')\n",
    "    cols = [ele.text.strip() for ele in cols]\n",
    "    data.append(cols)\n",
    "\n",
    "    df = pd.DataFrame(data, columns=[\"Date\", \"Team\", \"Inning\", \"Pitcher\", \"Batter\", \"BC\", \"Result\", \"Prev\", \"Next\", \"LEV\", \"REs\", \"REa\", \"WPe\", \"WPa\"])\n",
    "\n",
    "if not df.empty:\n",
    "    print(\"데이터프레임 생성 성공!\")\n",
    "    print(df.head())\n",
    "else:\n",
    "    print(\"데이터프레임 생성 실패!\")\n"
   ]
  },
  {
   "cell_type": "code",
   "execution_count": null,
   "id": "02ae9562-12ca-4a6d-9b85-c6d954a11a5d",
   "metadata": {},
   "outputs": [],
   "source": [
    "# 5단계: CSV로 내보내기\n",
    "csv_file = 'Playing.csv'\n",
    "df.to_csv(csv_file, index=False, encoding='utf-8-sig')\n",
    "print(\"데이터가 CSV 파일로 저장되었습니다.\")\n"
   ]
  },
  {
   "cell_type": "code",
   "execution_count": null,
   "id": "e809b829-8da4-4064-a154-4d0dbb1c6aca",
   "metadata": {},
   "outputs": [],
   "source": [
    "# 6단계: 저장된 파일 읽어서 확인하기\n",
    "saved_df = pd.read_csv(csv_file, encoding='utf-8-sig')\n",
    "\n",
    "if not saved_df.empty:\n",
    "    print(\"저장된 데이터 읽기 성공!\")\n",
    "    print(saved_df.head())\n",
    "else:\n",
    "    print(\"저장된 데이터를 읽을 수 없습니다.\")\n"
   ]
  }
 ],
 "metadata": {
  "kernelspec": {
   "display_name": "Python 3 (ipykernel)",
   "language": "python",
   "name": "python3"
  },
  "language_info": {
   "codemirror_mode": {
    "name": "ipython",
    "version": 3
   },
   "file_extension": ".py",
   "mimetype": "text/x-python",
   "name": "python",
   "nbconvert_exporter": "python",
   "pygments_lexer": "ipython3",
   "version": "3.12.4"
  }
 },
 "nbformat": 4,
 "nbformat_minor": 5
}
